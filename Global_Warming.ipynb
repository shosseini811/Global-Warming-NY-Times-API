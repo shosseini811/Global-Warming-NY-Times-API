{
 "cells": [
  {
   "cell_type": "code",
   "execution_count": 19,
   "metadata": {},
   "outputs": [],
   "source": [
    "# Dependencies\n",
    "import requests\n",
    "from config import api_key\n",
    "import time\n",
    "import datetime\n",
    "from dateutil.relativedelta import relativedelta\n",
    "import pandas as pd\n",
    "import seaborn as sns\n",
    "import matplotlib.pyplot as plt\n",
    "url = \"https://api.nytimes.com/svc/search/v2/articlesearch.json?\"\n",
    "\n",
    "# Store a Global Warming term\n",
    "query = \"global warming\"\n",
    "\n",
    "end_date = datetime.date.today()\n",
    "begin_date = end_date - relativedelta(years=3)\n"
   ]
  },
  {
   "cell_type": "code",
   "execution_count": 12,
   "metadata": {},
   "outputs": [
    {
     "name": "stdout",
     "output_type": "stream",
     "text": [
      "Number of pages articles extracted\n",
      "Status 200 \n",
      "Page 0 done\n",
      "Status 200 \n",
      "Page 1 done\n",
      "Status 200 \n",
      "Page 2 done\n",
      "Status 200 \n",
      "Page 3 done\n",
      "Status 200 \n",
      "Page 4 done\n",
      "Status 200 \n",
      "Page 5 done\n",
      "Status 200 \n",
      "Page 6 done\n",
      "Status 200 \n",
      "Page 7 done\n",
      "Status 200 \n",
      "Page 8 done\n",
      "Status 200 \n",
      "Page 9 done\n",
      "Status 200 \n",
      "Page 10 done\n",
      "Status 200 \n",
      "Page 11 done\n",
      "Status 200 \n",
      "Page 12 done\n",
      "Status 200 \n",
      "Page 13 done\n",
      "Status 200 \n",
      "Page 14 done\n",
      "Status 200 \n",
      "Page 15 done\n",
      "Status 200 \n",
      "Page 16 done\n",
      "Status 200 \n",
      "Page 17 done\n",
      "Status 200 \n",
      "Page 18 done\n",
      "Status 200 \n",
      "Page 19 done\n",
      "Status 200 \n",
      "Page 20 done\n",
      "Status 200 \n",
      "Page 21 done\n",
      "Status 200 \n",
      "Page 22 done\n",
      "Status 200 \n",
      "Page 23 done\n",
      "Status 200 \n",
      "Page 24 done\n",
      "Status 200 \n",
      "Page 25 done\n",
      "Status 200 \n",
      "Page 26 done\n",
      "Status 200 \n",
      "Page 27 done\n",
      "Status 200 \n",
      "Page 28 done\n",
      "Status 200 \n",
      "Page 29 done\n",
      "Status 200 \n",
      "Page 30 done\n",
      "Status 200 \n",
      "Page 31 done\n",
      "Status 200 \n",
      "Page 32 done\n",
      "Status 200 \n",
      "Page 33 done\n",
      "Status 200 \n",
      "Page 34 done\n",
      "Status 200 \n",
      "Page 35 done\n",
      "Status 200 \n",
      "Page 36 done\n",
      "Status 200 \n",
      "Page 37 done\n",
      "Status 200 \n",
      "Page 38 done\n",
      "Status 200 \n",
      "Page 39 done\n",
      "Status 200 \n",
      "Page 40 done\n",
      "Status 200 \n",
      "Page 41 done\n",
      "Status 200 \n",
      "Page 42 done\n",
      "Status 200 \n",
      "Page 43 done\n",
      "Status 200 \n",
      "Page 44 done\n",
      "Status 200 \n",
      "Page 45 done\n",
      "Status 200 \n",
      "Page 46 done\n",
      "Status 200 \n",
      "Page 47 done\n",
      "Status 200 \n",
      "Page 48 done\n",
      "Status 200 \n",
      "Page 49 done\n",
      "Status 200 \n",
      "Page 50 done\n",
      "Status 200 \n",
      "Page 51 done\n",
      "Status 200 \n",
      "Page 52 done\n",
      "Status 200 \n",
      "Page 53 done\n",
      "Status 200 \n",
      "Page 54 done\n",
      "Status 200 \n",
      "Page 55 done\n",
      "Status 200 \n",
      "Page 56 done\n",
      "Status 200 \n",
      "Page 57 done\n",
      "Status 200 \n",
      "Page 58 done\n",
      "Status 200 \n",
      "Page 59 done\n",
      "Status 200 \n",
      "Page 60 done\n",
      "Status 200 \n",
      "Page 61 done\n",
      "Status 200 \n",
      "Page 62 done\n",
      "Status 200 \n",
      "Page 63 done\n",
      "Status 200 \n",
      "Page 64 done\n",
      "Status 200 \n",
      "Page 65 done\n",
      "Status 200 \n",
      "Page 66 done\n",
      "Status 200 \n",
      "Page 67 done\n",
      "Status 200 \n",
      "Page 68 done\n",
      "Status 200 \n",
      "Page 69 done\n",
      "Status 200 \n",
      "Page 70 done\n",
      "Status 200 \n",
      "Page 71 done\n",
      "Status 200 \n",
      "Page 72 done\n",
      "Status 200 \n",
      "Page 73 done\n",
      "Status 200 \n",
      "Page 74 done\n",
      "Status 200 \n",
      "Page 75 done\n",
      "Status 200 \n",
      "Page 76 done\n",
      "Status 200 \n",
      "Page 77 done\n",
      "Status 200 \n",
      "Page 78 done\n",
      "Status 200 \n",
      "Page 79 done\n",
      "Status 200 \n",
      "Page 80 done\n",
      "Status 200 \n",
      "Page 81 done\n",
      "Status 200 \n",
      "Page 82 done\n",
      "Status 200 \n",
      "Page 83 done\n",
      "Status 200 \n",
      "Page 84 done\n",
      "Status 200 \n",
      "Page 85 done\n",
      "Status 200 \n",
      "Page 86 done\n",
      "Status 200 \n",
      "Page 87 done\n",
      "Status 200 \n",
      "Page 88 done\n",
      "Status 200 \n",
      "Page 89 done\n",
      "Status 200 \n",
      "Page 90 done\n",
      "Status 200 \n",
      "Page 91 done\n",
      "Status 200 \n",
      "Page 92 done\n",
      "Status 200 \n",
      "Page 93 done\n",
      "Status 200 \n",
      "Page 94 done\n",
      "Status 200 \n",
      "Page 95 done\n",
      "Status 200 \n",
      "Page 96 done\n",
      "Status 200 \n",
      "Page 97 done\n",
      "Status 200 \n",
      "Page 98 done\n",
      "Status 200 \n",
      "Page 99 done\n"
     ]
    }
   ],
   "source": [
    "print(\"Number of pages articles extracted\")\n",
    "# Empty list for articles\n",
    "articles_list = []\n",
    "web_url = []\n",
    "pub_date = []\n",
    "snippet = []\n",
    "type_of_material = []\n",
    "\n",
    "# loop through pages 0-100\n",
    "\n",
    "for page in range(0, 100):\n",
    "    query_url = f\"{url}api-key={api_key}&q={query}&begin_date={begin_date}&end_date={end_date}\"\n",
    "    # create query with page number\n",
    "    query_url = f\"{query_url}&page={str(page)}\"\n",
    "    request = requests.get(query_url)\n",
    "    articles = request.json()\n",
    "    time.sleep(6)\n",
    "\n",
    "    print(f\"Status {request.status_code} \")\n",
    "    # Add a six second interval between queries to stay within API query limits\n",
    "    # loop through the response and append each article to the list\n",
    "    for article in articles[\"response\"][\"docs\"]:\n",
    "        try:\n",
    "                articles_list.append(article)\n",
    "\n",
    "        except:\n",
    "            articles_list.append(\"NA\")\n",
    "            \n",
    "        \n",
    "    for article in articles[\"response\"][\"docs\"]:\n",
    "\n",
    "        try:\n",
    "            web_url.append(article[\"web_url\"])\n",
    "        except:\n",
    "            web_url.append(\"NA\")\n",
    "        \n",
    "    for article in articles[\"response\"][\"docs\"]:\n",
    "\n",
    "        try:\n",
    "            pub_date.append(article['pub_date'].split('T')[0])\n",
    "        except:\n",
    "            pub_date.append(\"NA\")\n",
    "            \n",
    "            \n",
    "    for article in articles[\"response\"][\"docs\"]:\n",
    "\n",
    "        try:\n",
    "            snippet.append(article['snippet'])\n",
    "        except:\n",
    "            snippet.append(\"NA\")           \n",
    "\n",
    "    for article in articles[\"response\"][\"docs\"]:\n",
    "\n",
    "        try:\n",
    "            type_of_material.append(article['type_of_material'])\n",
    "        except:\n",
    "            type_of_material.append(\"NA\")  \n",
    "            \n",
    "    print(f\"Page {page} done\")\n",
    "print(\"Completed\")                         "
   ]
  },
  {
   "cell_type": "code",
   "execution_count": 13,
   "metadata": {},
   "outputs": [
    {
     "data": {
      "text/plain": [
       "(1000, 1000, 1000, 1000, 1000)"
      ]
     },
     "execution_count": 13,
     "metadata": {},
     "output_type": "execute_result"
    }
   ],
   "source": [
    "len(snippet), len(web_url), len(pub_date), len(type_of_material), len(articles_list)"
   ]
  },
  {
   "cell_type": "code",
   "execution_count": 14,
   "metadata": {},
   "outputs": [
    {
     "data": {
      "text/html": [
       "<div>\n",
       "<style scoped>\n",
       "    .dataframe tbody tr th:only-of-type {\n",
       "        vertical-align: middle;\n",
       "    }\n",
       "\n",
       "    .dataframe tbody tr th {\n",
       "        vertical-align: top;\n",
       "    }\n",
       "\n",
       "    .dataframe thead th {\n",
       "        text-align: right;\n",
       "    }\n",
       "</style>\n",
       "<table border=\"1\" class=\"dataframe\">\n",
       "  <thead>\n",
       "    <tr style=\"text-align: right;\">\n",
       "      <th></th>\n",
       "      <th>snippet</th>\n",
       "      <th>url</th>\n",
       "      <th>publication_date</th>\n",
       "      <th>type</th>\n",
       "      <th>article</th>\n",
       "    </tr>\n",
       "  </thead>\n",
       "  <tbody>\n",
       "    <tr>\n",
       "      <th>0</th>\n",
       "      <td>The changes happening at the top of the planet...</td>\n",
       "      <td>https://www.nytimes.com/2021/12/14/climate/arc...</td>\n",
       "      <td>2021-12-14</td>\n",
       "      <td>News</td>\n",
       "      <td>{'abstract': 'The changes happening at the top...</td>\n",
       "    </tr>\n",
       "    <tr>\n",
       "      <th>1</th>\n",
       "      <td>Researchers found ads placed by Google on site...</td>\n",
       "      <td>https://www.nytimes.com/2021/12/16/climate/goo...</td>\n",
       "      <td>2021-12-16</td>\n",
       "      <td>News</td>\n",
       "      <td>{'abstract': 'Researchers found ads placed by ...</td>\n",
       "    </tr>\n",
       "    <tr>\n",
       "      <th>2</th>\n",
       "      <td>The science suggests that the United States ca...</td>\n",
       "      <td>https://www.nytimes.com/2021/12/17/climate/win...</td>\n",
       "      <td>2021-12-17</td>\n",
       "      <td>News</td>\n",
       "      <td>{'abstract': 'The science suggests that the Un...</td>\n",
       "    </tr>\n",
       "    <tr>\n",
       "      <th>3</th>\n",
       "      <td>The Financial Stability Oversight Council issu...</td>\n",
       "      <td>https://www.nytimes.com/2021/12/17/us/politics...</td>\n",
       "      <td>2021-12-17</td>\n",
       "      <td>News</td>\n",
       "      <td>{'abstract': 'The Financial Stability Oversigh...</td>\n",
       "    </tr>\n",
       "    <tr>\n",
       "      <th>4</th>\n",
       "      <td>Here’s what we know.</td>\n",
       "      <td>https://www.nytimes.com/2021/12/15/opinion/tor...</td>\n",
       "      <td>2021-12-15</td>\n",
       "      <td>Op-Ed</td>\n",
       "      <td>{'abstract': 'Here’s what we know.', 'web_url'...</td>\n",
       "    </tr>\n",
       "  </tbody>\n",
       "</table>\n",
       "</div>"
      ],
      "text/plain": [
       "                                             snippet  \\\n",
       "0  The changes happening at the top of the planet...   \n",
       "1  Researchers found ads placed by Google on site...   \n",
       "2  The science suggests that the United States ca...   \n",
       "3  The Financial Stability Oversight Council issu...   \n",
       "4                               Here’s what we know.   \n",
       "\n",
       "                                                 url publication_date   type  \\\n",
       "0  https://www.nytimes.com/2021/12/14/climate/arc...       2021-12-14   News   \n",
       "1  https://www.nytimes.com/2021/12/16/climate/goo...       2021-12-16   News   \n",
       "2  https://www.nytimes.com/2021/12/17/climate/win...       2021-12-17   News   \n",
       "3  https://www.nytimes.com/2021/12/17/us/politics...       2021-12-17   News   \n",
       "4  https://www.nytimes.com/2021/12/15/opinion/tor...       2021-12-15  Op-Ed   \n",
       "\n",
       "                                             article  \n",
       "0  {'abstract': 'The changes happening at the top...  \n",
       "1  {'abstract': 'Researchers found ads placed by ...  \n",
       "2  {'abstract': 'The science suggests that the Un...  \n",
       "3  {'abstract': 'The Financial Stability Oversigh...  \n",
       "4  {'abstract': 'Here’s what we know.', 'web_url'...  "
      ]
     },
     "execution_count": 14,
     "metadata": {},
     "output_type": "execute_result"
    }
   ],
   "source": [
    "global_warming_df = pd.DataFrame({'snippet':snippet,\n",
    "                                 'url':web_url,\n",
    "                                  'publication_date':pub_date,\n",
    "                                  'type':type_of_material,\n",
    "                                  'article':articles_list\n",
    "                                 })\n",
    "global_warming_df.head()"
   ]
  },
  {
   "cell_type": "code",
   "execution_count": 27,
   "metadata": {},
   "outputs": [
    {
     "name": "stdout",
     "output_type": "stream",
     "text": [
      "<class 'pandas.core.frame.DataFrame'>\n",
      "RangeIndex: 1000 entries, 0 to 999\n",
      "Data columns (total 5 columns):\n",
      " #   Column            Non-Null Count  Dtype \n",
      "---  ------            --------------  ----- \n",
      " 0   snippet           1000 non-null   object\n",
      " 1   url               1000 non-null   object\n",
      " 2   publication_date  1000 non-null   object\n",
      " 3   type              1000 non-null   object\n",
      " 4   article           1000 non-null   object\n",
      "dtypes: object(5)\n",
      "memory usage: 39.2+ KB\n"
     ]
    }
   ],
   "source": [
    "global_warming_df.info()"
   ]
  },
  {
   "cell_type": "code",
   "execution_count": 29,
   "metadata": {},
   "outputs": [],
   "source": [
    "global_warming_df['publication_date'] = pd.to_datetime(global_warming_df['publication_date'])"
   ]
  },
  {
   "cell_type": "code",
   "execution_count": 40,
   "metadata": {},
   "outputs": [],
   "source": [
    "global_warming_df['month'] = pd.DatetimeIndex(global_warming_df['publication_date']).month\n",
    "global_warming_df['day'] = pd.DatetimeIndex(global_warming_df['publication_date']).day\n",
    "\n",
    "global_warming_df['year'] = pd.DatetimeIndex(global_warming_df['publication_date']).year\n"
   ]
  },
  {
   "cell_type": "code",
   "execution_count": 41,
   "metadata": {},
   "outputs": [
    {
     "data": {
      "image/png": "[encoded data removed]",
      "text/plain": [
       "<Figure size 648x288 with 1 Axes>"
      ]
     },
     "metadata": {
      "needs_background": "light"
     },
     "output_type": "display_data"
    }
   ],
   "source": [
    "plt.figure(figsize=(9,4))\n",
    "plt.title(\"Number of articles per year\")\n",
    "sns.countplot(data=global_warming_df, x='year')\n",
    "plt.xticks(rotation = 45) # Rotates X-Axis Ticks by 45-degrees\n",
    "plt.show()"
   ]
  },
  {
   "cell_type": "code",
   "execution_count": 42,
   "metadata": {},
   "outputs": [
    {
     "data": {
      "image/png": "[encoded data removed]",
      "text/plain": [
       "<Figure size 648x288 with 1 Axes>"
      ]
     },
     "metadata": {
      "needs_background": "light"
     },
     "output_type": "display_data"
    }
   ],
   "source": [
    "plt.figure(figsize=(9,4))\n",
    "plt.title(\"Number of articles per month\")\n",
    "sns.countplot(data=global_warming_df, x='month')\n",
    "plt.xticks(rotation = 45) # Rotates X-Axis Ticks by 45-degrees\n",
    "plt.show()"
   ]
  },
  {
   "cell_type": "code",
   "execution_count": 43,
   "metadata": {},
   "outputs": [
    {
     "data": {
      "image/png": "[encoded data removed]",
      "text/plain": [
       "<Figure size 648x288 with 1 Axes>"
      ]
     },
     "metadata": {
      "needs_background": "light"
     },
     "output_type": "display_data"
    }
   ],
   "source": [
    "plt.figure(figsize=(9,4))\n",
    "plt.title(\"Number of articles per day\")\n",
    "sns.countplot(data=global_warming_df, x='day')\n",
    "plt.xticks(rotation = 45) # Rotates X-Axis Ticks by 45-degrees\n",
    "plt.show()"
   ]
  },
  {
   "cell_type": "code",
   "execution_count": 44,
   "metadata": {},
   "outputs": [
    {
     "data": {
      "image/png": "[encoded data removed]",
      "text/plain": [
       "<Figure size 648x288 with 1 Axes>"
      ]
     },
     "metadata": {
      "needs_background": "light"
     },
     "output_type": "display_data"
    }
   ],
   "source": [
    "plt.figure(figsize=(9,4))\n",
    "sns.countplot(data=global_warming_df, x='type')\n",
    "plt.xticks(rotation = 45) # Rotates X-Axis Ticks by 45-degrees\n",
    "plt.show()"
   ]
  },
  {
   "cell_type": "code",
   "execution_count": 45,
   "metadata": {},
   "outputs": [],
   "source": [
    "global_warming_df.to_csv('globalwarming.csv')"
   ]
  },
  {
   "cell_type": "code",
   "execution_count": null,
   "metadata": {},
   "outputs": [],
   "source": []
  },
  {
   "cell_type": "code",
   "execution_count": null,
   "metadata": {},
   "outputs": [],
   "source": []
  }
 ],
 "metadata": {
  "kernelspec": {
   "display_name": "Python 3.9.4 64-bit ('PythonAdv': conda)",
   "language": "python",
   "name": "python394jvsc74a57bd01c57b422e1566e200f820267b75cce6d44d21cc07fb8acb3ea4b77bc02dfd528"
  },
  "language_info": {
   "codemirror_mode": {
    "name": "ipython",
    "version": 3
   },
   "file_extension": ".py",
   "mimetype": "text/x-python",
   "name": "python",
   "nbconvert_exporter": "python",
   "pygments_lexer": "ipython3",
   "version": "3.9.4"
  },
  "varInspector": {
   "cols": {
    "lenName": 16,
    "lenType": 16,
    "lenVar": 40
   },
   "kernels_config": {
    "python": {
     "delete_cmd_postfix": "",
     "delete_cmd_prefix": "del ",
     "library": "var_list.py",
     "varRefreshCmd": "print(var_dic_list())"
    },
    "r": {
     "delete_cmd_postfix": ") ",
     "delete_cmd_prefix": "rm(",
     "library": "var_list.r",
     "varRefreshCmd": "cat(var_dic_list()) "
    }
   },
   "types_to_exclude": [
    "module",
    "function",
    "builtin_function_or_method",
    "instance",
    "_Feature"
   ],
   "window_display": false
  }
 },
 "nbformat": 4,
 "nbformat_minor": 2
}
